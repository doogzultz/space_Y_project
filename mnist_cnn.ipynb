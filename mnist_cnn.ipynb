{
    "cells": [
        {
            "cell_type": "code",
            "execution_count": 1,
            "id": "fbed2769",
            "metadata": {},
            "outputs": [
                {
                    "name": "stdout",
                    "output_type": "stream",
                    "text": "Requirement already satisfied: tensorflow in /opt/conda/envs/Python-3.9/lib/python3.9/site-packages (2.7.0)\nCollecting tensorflow\n  Downloading tensorflow-2.8.0-cp39-cp39-manylinux2010_x86_64.whl (497.6 MB)\n\u001b[K     |\u2588\u2588\u2588\u2588\u2588\u2588\u2588\u2588\u2588\u2588\u2588\u2588\u2588\u2588\u2588\u2588\u2588\u2588\u2588\u2588\u2588\u2588\u2588\u2588\u2588\u2588\u2588\u2588\u2588\u2588\u2588\u2588| 497.6 MB 20 kB/s s eta 0:00:01|\u2588\u2588\u2588\u2588\u258e                           | 65.8 MB 59.6 MB/s eta 0:00:08 |\u2588\u2588\u2588\u2588\u258a                           | 73.5 MB 59.6 MB/s eta 0:00:08                    | 77.1 MB 59.6 MB/s eta 0:00:08         | 86.2 MB 59.6 MB/s eta 0:00:07MB 59.6 MB/s eta 0:00:07\ufffd\ufffd\u2588\u2588\u2588\u258f                      | 142.6 MB 62.6 MB/s eta 0:00:06\ufffd\u2588\u2588\u2588\u2588\u2588\u2588\u2588\u2588\u2588\u258d                 | 224.6 MB 29.2 MB/s eta 0:00:10\ufffd\u2588\u2588\u2588\u2588\u2588\u2588\u2588\u2588\u2588\u2589                 | 229.9 MB 29.2 MB/s eta 0:00:10/s eta 0:00:11\ufffd\ufffd\u2588\u2588\u2588\u2588\u2588\u2588\u2588\u2588\u2588\u2588\u2588\u2588\u2588\u2588              | 278.9 MB 23.6 MB/s eta 0:00:10\ufffd\ufffd\u2588\u2588\u2588\u2588\u2588\u2588\u2588\u2588\u2588\u2588\u2588\u2588\u2588\u2588\u258f             | 281.7 MB 23.6 MB/s eta 0:00:10MB/s eta 0:00:10MB/s eta 0:00:09\ufffd\ufffd\u2588\u258e            | 299.9 MB 23.4 MB/s eta 0:00:09\ufffd\ufffd\u2588\u258c            | 302.6 MB 23.4 MB/s eta 0:00:09 23.4 MB/s eta 0:00:09\ufffd\ufffd\u2588\u2588            | 309.3 MB 23.4 MB/s eta 0:00:09:00:03        | 344.7 MB 64.1 MB/s eta 0:00:03        | 352.5 MB 64.1 MB/s eta 0:00:03\u2588\u2588\u2588\u2588\u2588\u2588\u2588\u2588\u2588\u2588\u2588\u2588\u2588\u2588      | 403.5 MB 71.4 MB/s eta 0:00:02\ufffd\ufffd\u2588\u2588\u258e     | 408.4 MB 71.4 MB/s eta 0:00:02\n\u001b[?25hRequirement already satisfied: google-pasta>=0.1.1 in /opt/conda/envs/Python-3.9/lib/python3.9/site-packages (from tensorflow) (0.2.0)\nRequirement already satisfied: numpy>=1.20 in /opt/conda/envs/Python-3.9/lib/python3.9/site-packages (from tensorflow) (1.20.3)\nRequirement already satisfied: gast>=0.2.1 in /opt/conda/envs/Python-3.9/lib/python3.9/site-packages (from tensorflow) (0.4.0)\nRequirement already satisfied: keras-preprocessing>=1.1.1 in /opt/conda/envs/Python-3.9/lib/python3.9/site-packages (from tensorflow) (1.1.2)\nRequirement already satisfied: termcolor>=1.1.0 in /opt/conda/envs/Python-3.9/lib/python3.9/site-packages (from tensorflow) (1.1.0)\nCollecting tf-estimator-nightly==2.8.0.dev2021122109\n  Downloading tf_estimator_nightly-2.8.0.dev2021122109-py2.py3-none-any.whl (462 kB)\n\u001b[K     |\u2588\u2588\u2588\u2588\u2588\u2588\u2588\u2588\u2588\u2588\u2588\u2588\u2588\u2588\u2588\u2588\u2588\u2588\u2588\u2588\u2588\u2588\u2588\u2588\u2588\u2588\u2588\u2588\u2588\u2588\u2588\u2588| 462 kB 64.3 MB/s eta 0:00:01\n\u001b[?25hRequirement already satisfied: six>=1.12.0 in /opt/conda/envs/Python-3.9/lib/python3.9/site-packages (from tensorflow) (1.15.0)\nRequirement already satisfied: absl-py>=0.4.0 in /opt/conda/envs/Python-3.9/lib/python3.9/site-packages (from tensorflow) (0.12.0)\nRequirement already satisfied: protobuf>=3.9.2 in /opt/conda/envs/Python-3.9/lib/python3.9/site-packages (from tensorflow) (3.14.0)\nRequirement already satisfied: tensorflow-io-gcs-filesystem>=0.23.1 in /opt/conda/envs/Python-3.9/lib/python3.9/site-packages (from tensorflow) (0.23.1)\nRequirement already satisfied: astunparse>=1.6.0 in /opt/conda/envs/Python-3.9/lib/python3.9/site-packages (from tensorflow) (1.6.3)\nCollecting libclang>=9.0.1\n  Downloading libclang-13.0.0-py2.py3-none-manylinux1_x86_64.whl (14.5 MB)\n\u001b[K     |\u2588\u2588\u2588\u2588\u2588\u2588\u2588\u2588\u2588\u2588\u2588\u2588\u2588\u2588\u2588\u2588\u2588\u2588\u2588\u2588\u2588\u2588\u2588\u2588\u2588\u2588\u2588\u2588\u2588\u2588\u2588\u2588| 14.5 MB 63.0 MB/s eta 0:00:01\n\u001b[?25hRequirement already satisfied: flatbuffers>=1.12 in /opt/conda/envs/Python-3.9/lib/python3.9/site-packages (from tensorflow) (20210226132247)\nCollecting tensorboard<2.9,>=2.8\n  Downloading tensorboard-2.8.0-py3-none-any.whl (5.8 MB)\n\u001b[K     |\u2588\u2588\u2588\u2588\u2588\u2588\u2588\u2588\u2588\u2588\u2588\u2588\u2588\u2588\u2588\u2588\u2588\u2588\u2588\u2588\u2588\u2588\u2588\u2588\u2588\u2588\u2588\u2588\u2588\u2588\u2588\u2588| 5.8 MB 62.0 MB/s eta 0:00:01\n\u001b[?25hRequirement already satisfied: typing-extensions>=3.6.6 in /opt/conda/envs/Python-3.9/lib/python3.9/site-packages (from tensorflow) (3.7.4.3)\nRequirement already satisfied: wrapt>=1.11.0 in /opt/conda/envs/Python-3.9/lib/python3.9/site-packages (from tensorflow) (1.12.1)\nRequirement already satisfied: opt-einsum>=2.3.2 in /opt/conda/envs/Python-3.9/lib/python3.9/site-packages (from tensorflow) (3.3.0)\nCollecting keras<2.9,>=2.8.0rc0\n  Downloading keras-2.8.0-py2.py3-none-any.whl (1.4 MB)\n\u001b[K     |\u2588\u2588\u2588\u2588\u2588\u2588\u2588\u2588\u2588\u2588\u2588\u2588\u2588\u2588\u2588\u2588\u2588\u2588\u2588\u2588\u2588\u2588\u2588\u2588\u2588\u2588\u2588\u2588\u2588\u2588\u2588\u2588| 1.4 MB 52.6 MB/s eta 0:00:01\n\u001b[?25hRequirement already satisfied: h5py>=2.9.0 in /opt/conda/envs/Python-3.9/lib/python3.9/site-packages (from tensorflow) (3.2.1)\nRequirement already satisfied: grpcio<2.0,>=1.24.3 in /opt/conda/envs/Python-3.9/lib/python3.9/site-packages (from tensorflow) (1.42.0)\nRequirement already satisfied: setuptools in /opt/conda/envs/Python-3.9/lib/python3.9/site-packages (from tensorflow) (58.0.4)\nRequirement already satisfied: wheel<1.0,>=0.23.0 in /opt/conda/envs/Python-3.9/lib/python3.9/site-packages (from astunparse>=1.6.0->tensorflow) (0.37.0)\nRequirement already satisfied: google-auth<3,>=1.6.3 in /opt/conda/envs/Python-3.9/lib/python3.9/site-packages (from tensorboard<2.9,>=2.8->tensorflow) (1.23.0)\nRequirement already satisfied: werkzeug>=0.11.15 in /opt/conda/envs/Python-3.9/lib/python3.9/site-packages (from tensorboard<2.9,>=2.8->tensorflow) (2.0.2)\nRequirement already satisfied: google-auth-oauthlib<0.5,>=0.4.1 in /opt/conda/envs/Python-3.9/lib/python3.9/site-packages (from tensorboard<2.9,>=2.8->tensorflow) (0.4.4)\nRequirement already satisfied: tensorboard-data-server<0.7.0,>=0.6.0 in /opt/conda/envs/Python-3.9/lib/python3.9/site-packages (from tensorboard<2.9,>=2.8->tensorflow) (0.6.1)\nRequirement already satisfied: tensorboard-plugin-wit>=1.6.0 in /opt/conda/envs/Python-3.9/lib/python3.9/site-packages (from tensorboard<2.9,>=2.8->tensorflow) (1.6.0)\nRequirement already satisfied: requests<3,>=2.21.0 in /opt/conda/envs/Python-3.9/lib/python3.9/site-packages (from tensorboard<2.9,>=2.8->tensorflow) (2.26.0)\nRequirement already satisfied: markdown>=2.6.8 in /opt/conda/envs/Python-3.9/lib/python3.9/site-packages (from tensorboard<2.9,>=2.8->tensorflow) (3.3.3)\nRequirement already satisfied: cachetools<5.0,>=2.0.0 in /opt/conda/envs/Python-3.9/lib/python3.9/site-packages (from google-auth<3,>=1.6.3->tensorboard<2.9,>=2.8->tensorflow) (4.2.2)\nRequirement already satisfied: rsa<5,>=3.1.4 in /opt/conda/envs/Python-3.9/lib/python3.9/site-packages (from google-auth<3,>=1.6.3->tensorboard<2.9,>=2.8->tensorflow) (4.7.2)\nRequirement already satisfied: pyasn1-modules>=0.2.1 in /opt/conda/envs/Python-3.9/lib/python3.9/site-packages (from google-auth<3,>=1.6.3->tensorboard<2.9,>=2.8->tensorflow) (0.2.8)\nRequirement already satisfied: requests-oauthlib>=0.7.0 in /opt/conda/envs/Python-3.9/lib/python3.9/site-packages (from google-auth-oauthlib<0.5,>=0.4.1->tensorboard<2.9,>=2.8->tensorflow) (1.3.0)\nRequirement already satisfied: pyasn1<0.5.0,>=0.4.6 in /opt/conda/envs/Python-3.9/lib/python3.9/site-packages (from pyasn1-modules>=0.2.1->google-auth<3,>=1.6.3->tensorboard<2.9,>=2.8->tensorflow) (0.4.8)\nRequirement already satisfied: charset-normalizer~=2.0.0 in /opt/conda/envs/Python-3.9/lib/python3.9/site-packages (from requests<3,>=2.21.0->tensorboard<2.9,>=2.8->tensorflow) (2.0.4)\nRequirement already satisfied: idna<4,>=2.5 in /opt/conda/envs/Python-3.9/lib/python3.9/site-packages (from requests<3,>=2.21.0->tensorboard<2.9,>=2.8->tensorflow) (3.3)\nRequirement already satisfied: certifi>=2017.4.17 in /opt/conda/envs/Python-3.9/lib/python3.9/site-packages (from requests<3,>=2.21.0->tensorboard<2.9,>=2.8->tensorflow) (2021.10.8)\nRequirement already satisfied: urllib3<1.27,>=1.21.1 in /opt/conda/envs/Python-3.9/lib/python3.9/site-packages (from requests<3,>=2.21.0->tensorboard<2.9,>=2.8->tensorflow) (1.26.7)\nRequirement already satisfied: oauthlib>=3.0.0 in /opt/conda/envs/Python-3.9/lib/python3.9/site-packages (from requests-oauthlib>=0.7.0->google-auth-oauthlib<0.5,>=0.4.1->tensorboard<2.9,>=2.8->tensorflow) (3.2.0)\nInstalling collected packages: tf-estimator-nightly, tensorboard, libclang, keras, tensorflow\n  Attempting uninstall: tensorboard\n    Found existing installation: tensorboard 2.7.0\n    Uninstalling tensorboard-2.7.0:\n      Successfully uninstalled tensorboard-2.7.0\n  Attempting uninstall: keras\n    Found existing installation: keras 2.7.0\n    Uninstalling keras-2.7.0:\n      Successfully uninstalled keras-2.7.0\n  Attempting uninstall: tensorflow\n    Found existing installation: tensorflow 2.7.0\n    Uninstalling tensorflow-2.7.0:\n      Successfully uninstalled tensorflow-2.7.0\n\u001b[31mERROR: pip's dependency resolver does not currently take into account all the packages that are installed. This behaviour is the source of the following dependency conflicts.\ntensorflow-text 2.7.3 requires tensorflow<2.8,>=2.7.0, but you have tensorflow 2.8.0 which is incompatible.\u001b[0m\nSuccessfully installed keras-2.8.0 libclang-13.0.0 tensorboard-2.8.0 tensorflow-2.8.0 tf-estimator-nightly-2.8.0.dev2021122109\n\u001b[31mERROR: Invalid requirement: '-'\u001b[0m\r\n"
                }
            ],
            "source": "!pip install --upgrade tensorflow\n!pip install tensorflow - gpu"
        },
        {
            "cell_type": "code",
            "execution_count": 2,
            "id": "c5011432",
            "metadata": {},
            "outputs": [
                {
                    "name": "stderr",
                    "output_type": "stream",
                    "text": "2022-04-16 11:53:35.089304: W tensorflow/stream_executor/platform/default/dso_loader.cc:64] Could not load dynamic library 'libcudart.so.11.0'; dlerror: libcudart.so.11.0: cannot open shared object file: No such file or directory; LD_LIBRARY_PATH: /opt/ibm/dsdriver/lib:/opt/oracle/lib:/opt/conda/envs/Python-3.9/lib/python3.9/site-packages/tensorflow\n"
                }
            ],
            "source": "import tensorflow as tf\nfrom tensorflow import keras\nimport numpy as np\nimport matplotlib as mpl\nimport matplotlib.pyplot as plt\nimport pandas as pd"
        },
        {
            "cell_type": "code",
            "execution_count": 3,
            "id": "b432a415",
            "metadata": {},
            "outputs": [
                {
                    "name": "stdout",
                    "output_type": "stream",
                    "text": "Collecting tensorflow_datasets\n  Downloading tensorflow_datasets-4.5.2-py3-none-any.whl (4.2 MB)\n\u001b[K     |\u2588\u2588\u2588\u2588\u2588\u2588\u2588\u2588\u2588\u2588\u2588\u2588\u2588\u2588\u2588\u2588\u2588\u2588\u2588\u2588\u2588\u2588\u2588\u2588\u2588\u2588\u2588\u2588\u2588\u2588\u2588\u2588| 4.2 MB 17.2 MB/s eta 0:00:01\n\u001b[?25hRequirement already satisfied: termcolor in /opt/conda/envs/Python-3.9/lib/python3.9/site-packages (from tensorflow_datasets) (1.1.0)\nRequirement already satisfied: tensorflow-metadata in /opt/conda/envs/Python-3.9/lib/python3.9/site-packages (from tensorflow_datasets) (1.5.0)\nRequirement already satisfied: absl-py in /opt/conda/envs/Python-3.9/lib/python3.9/site-packages (from tensorflow_datasets) (0.12.0)\nRequirement already satisfied: protobuf>=3.12.2 in /opt/conda/envs/Python-3.9/lib/python3.9/site-packages (from tensorflow_datasets) (3.14.0)\nCollecting promise\n  Downloading promise-2.3.tar.gz (19 kB)\nRequirement already satisfied: six in /opt/conda/envs/Python-3.9/lib/python3.9/site-packages (from tensorflow_datasets) (1.15.0)\nRequirement already satisfied: numpy in /opt/conda/envs/Python-3.9/lib/python3.9/site-packages (from tensorflow_datasets) (1.20.3)\nRequirement already satisfied: tqdm in /opt/conda/envs/Python-3.9/lib/python3.9/site-packages (from tensorflow_datasets) (4.62.3)\nCollecting dill\n  Downloading dill-0.3.4-py2.py3-none-any.whl (86 kB)\n\u001b[K     |\u2588\u2588\u2588\u2588\u2588\u2588\u2588\u2588\u2588\u2588\u2588\u2588\u2588\u2588\u2588\u2588\u2588\u2588\u2588\u2588\u2588\u2588\u2588\u2588\u2588\u2588\u2588\u2588\u2588\u2588\u2588\u2588| 86 kB 13.5 MB/s eta 0:00:01\n\u001b[?25hRequirement already satisfied: requests>=2.19.0 in /opt/conda/envs/Python-3.9/lib/python3.9/site-packages (from tensorflow_datasets) (2.26.0)\nRequirement already satisfied: charset-normalizer~=2.0.0 in /opt/conda/envs/Python-3.9/lib/python3.9/site-packages (from requests>=2.19.0->tensorflow_datasets) (2.0.4)\nRequirement already satisfied: certifi>=2017.4.17 in /opt/conda/envs/Python-3.9/lib/python3.9/site-packages (from requests>=2.19.0->tensorflow_datasets) (2021.10.8)\nRequirement already satisfied: urllib3<1.27,>=1.21.1 in /opt/conda/envs/Python-3.9/lib/python3.9/site-packages (from requests>=2.19.0->tensorflow_datasets) (1.26.7)\nRequirement already satisfied: idna<4,>=2.5 in /opt/conda/envs/Python-3.9/lib/python3.9/site-packages (from requests>=2.19.0->tensorflow_datasets) (3.3)\nRequirement already satisfied: googleapis-common-protos<2,>=1.52.0 in /opt/conda/envs/Python-3.9/lib/python3.9/site-packages (from tensorflow-metadata->tensorflow_datasets) (1.52.0)\nBuilding wheels for collected packages: promise\n  Building wheel for promise (setup.py) ... \u001b[?25ldone\n\u001b[?25h  Created wheel for promise: filename=promise-2.3-py3-none-any.whl size=21502 sha256=82a4dd5eaf4897e36750d395fe98f9767d9d647cf7f5975e947793165e206371\n  Stored in directory: /tmp/wsuser/.cache/pip/wheels/e1/e8/83/ddea66100678d139b14bc87692ece57c6a2a937956d2532608\nSuccessfully built promise\nInstalling collected packages: promise, dill, tensorflow-datasets\nSuccessfully installed dill-0.3.4 promise-2.3 tensorflow-datasets-4.5.2\n"
                }
            ],
            "source": "!pip install tensorflow_datasets"
        },
        {
            "cell_type": "code",
            "execution_count": 4,
            "id": "fbc6ed20",
            "metadata": {},
            "outputs": [
                {
                    "name": "stdout",
                    "output_type": "stream",
                    "text": "Downloading data from https://storage.googleapis.com/tensorflow/tf-keras-datasets/mnist.npz\n11493376/11490434 [==============================] - 0s 0us/step\n11501568/11490434 [==============================] - 0s 0us/step\n"
                }
            ],
            "source": "(x_train_full, y_train_full), (x_test, y_test) = keras.datasets.mnist.load_data()"
        },
        {
            "cell_type": "code",
            "execution_count": 5,
            "id": "afb3a9c7",
            "metadata": {},
            "outputs": [],
            "source": "x_train, y_train = x_train_full[:50000], y_train_full[:50000]\nx_valid, y_valid = x_train_full[50000:], y_train_full[50000:]"
        },
        {
            "cell_type": "code",
            "execution_count": 6,
            "id": "161cc1cc",
            "metadata": {},
            "outputs": [
                {
                    "data": {
                        "text/plain": "(50000, 28, 28)"
                    },
                    "execution_count": 6,
                    "metadata": {},
                    "output_type": "execute_result"
                }
            ],
            "source": "x_train.shape"
        },
        {
            "cell_type": "code",
            "execution_count": 7,
            "id": "6a924490",
            "metadata": {},
            "outputs": [],
            "source": "x_mean = x_train.mean(axis = 0, keepdims = True)\nx_std = x_train.std(axis = 0, keepdims = True) + 1e-7\nx_train = (x_train-x_mean)/x_std\nx_valid = (x_valid - x_mean)/x_std\nx_test = (x_test - x_mean)/x_std"
        },
        {
            "cell_type": "code",
            "execution_count": 8,
            "id": "d69a91fd",
            "metadata": {},
            "outputs": [
                {
                    "name": "stderr",
                    "output_type": "stream",
                    "text": "2022-04-16 11:53:46.375727: W tensorflow/stream_executor/platform/default/dso_loader.cc:64] Could not load dynamic library 'libcuda.so.1'; dlerror: libcuda.so.1: cannot open shared object file: No such file or directory; LD_LIBRARY_PATH: /opt/ibm/dsdriver/lib:/opt/oracle/lib:/opt/conda/envs/Python-3.9/lib/python3.9/site-packages/tensorflow\n2022-04-16 11:53:46.375780: W tensorflow/stream_executor/cuda/cuda_driver.cc:269] failed call to cuInit: UNKNOWN ERROR (303)\n"
                }
            ],
            "source": "from functools import partial\nDefaultConv2D = partial(keras.layers.Conv2D,\n                       kernel_size = 3, activation = 'relu', padding= 'SAME')\n\nmodel = keras.models.Sequential([\n    DefaultConv2D(filters = 64, kernel_size = 7, input_shape = [28,28,1]),\n    keras.layers.MaxPooling2D(pool_size = 2),\n    DefaultConv2D(filters = 128),\n    DefaultConv2D(filters = 128),\n    keras.layers.MaxPooling2D(pool_size = 2),\n    DefaultConv2D(filters = 128),\n    DefaultConv2D(filters = 128),\n    keras.layers.MaxPooling2D(pool_size = 2),\n    keras.layers.Flatten(),\n    keras.layers.Dense(units = 128, activation = 'relu'),\n    keras.layers.Dropout(0.5),\n    keras.layers.Dense(units = 64, activation = 'relu'),\n    keras.layers.Dropout(0.5),\n    keras.layers.Dense(units = 10, activation = 'softmax')\n])"
        },
        {
            "cell_type": "code",
            "execution_count": 9,
            "id": "bd5eace6",
            "metadata": {},
            "outputs": [
                {
                    "name": "stdout",
                    "output_type": "stream",
                    "text": "Model: \"sequential\"\n_________________________________________________________________\n Layer (type)                Output Shape              Param #   \n=================================================================\n conv2d (Conv2D)             (None, 28, 28, 64)        3200      \n                                                                 \n max_pooling2d (MaxPooling2D  (None, 14, 14, 64)       0         \n )                                                               \n                                                                 \n conv2d_1 (Conv2D)           (None, 14, 14, 128)       73856     \n                                                                 \n conv2d_2 (Conv2D)           (None, 14, 14, 128)       147584    \n                                                                 \n max_pooling2d_1 (MaxPooling  (None, 7, 7, 128)        0         \n 2D)                                                             \n                                                                 \n conv2d_3 (Conv2D)           (None, 7, 7, 128)         147584    \n                                                                 \n conv2d_4 (Conv2D)           (None, 7, 7, 128)         147584    \n                                                                 \n max_pooling2d_2 (MaxPooling  (None, 3, 3, 128)        0         \n 2D)                                                             \n                                                                 \n flatten (Flatten)           (None, 1152)              0         \n                                                                 \n dense (Dense)               (None, 128)               147584    \n                                                                 \n dropout (Dropout)           (None, 128)               0         \n                                                                 \n dense_1 (Dense)             (None, 64)                8256      \n                                                                 \n dropout_1 (Dropout)         (None, 64)                0         \n                                                                 \n dense_2 (Dense)             (None, 10)                650       \n                                                                 \n=================================================================\nTotal params: 676,298\nTrainable params: 676,298\nNon-trainable params: 0\n_________________________________________________________________\n"
                }
            ],
            "source": "model.summary()"
        },
        {
            "cell_type": "code",
            "execution_count": null,
            "id": "cf929c88",
            "metadata": {},
            "outputs": [],
            "source": "model.compile(loss = 'sparse_categorical_crossentropy', optimizer = 'nadam', metrics = 'accuracy')\nhistory = model.fit(x_train, y_train, epochs = 10, validation_data = (x_valid, y_valid))\nscore = model.evaluate(x_test, y_test)"
        },
        {
            "cell_type": "code",
            "execution_count": null,
            "id": "0f37aa98",
            "metadata": {},
            "outputs": [],
            "source": "y_pred = model.predict(x_test[:10])\n"
        }
    ],
    "metadata": {
        "kernelspec": {
            "display_name": "Python 3.9",
            "language": "python",
            "name": "python3"
        },
        "language_info": {
            "codemirror_mode": {
                "name": "ipython",
                "version": 3
            },
            "file_extension": ".py",
            "mimetype": "text/x-python",
            "name": "python",
            "nbconvert_exporter": "python",
            "pygments_lexer": "ipython3",
            "version": "3.9.7"
        }
    },
    "nbformat": 4,
    "nbformat_minor": 5
}